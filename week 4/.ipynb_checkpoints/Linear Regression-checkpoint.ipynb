{
 "cells": [
  {
   "cell_type": "markdown",
   "metadata": {},
   "source": [
    "# Hồi quy tuyến tính\n",
    "*Hoàn thành toàn bộ phần bài tập trong notebook này, bao gồm toàn bộ kết quả đầu ra và code hỗ trợ.*\n",
    "\n",
    "***\"Không có một sự kiện nào trên đời là ngẫu nhiên, những thứ đang cho là ngẫu nhiên chỉ là những sự kiện ta chưa tìm ra được mô hình để biểu diễn quy luật của chúng\".***\n",
    "\n",
    "Xây dựng mô hình **Hồi quy tuyến tính** bao gồm hai phần:\n",
    "- Trong quá trình huấn luyện, bộ phân lớp lấy dữ liệu huấn luyện và và học các tham số mô hình.\n",
    "- Trong quá trình kiếm tra, mô hình phân lớp từng đối tượng bằng cách nhân giá trị của mẫu với các tham số mô hình để tìm ra giá trị của nhãn.\n",
    "- Giá trị của tham số được kiểm định chéo.\n",
    "Trong bài tập này, bạn sẽ cài đặt những bước trên và hiểu được qui trình Xây dựng một mô hình đơn giản với Học tham số, kiểm định chéo, và hiểu được cách viết code hiệu quả với vectorize.\n",
    "\n",
    "Bài toán dự đoán giá nhà Boston được sử dụng trong bài tập này."
   ]
  },
  {
   "cell_type": "code",
   "execution_count": 1,
   "metadata": {
    "collapsed": true
   },
   "outputs": [],
   "source": [
    "# Import một số thư viện cần thiết.\n",
    "import random\n",
    "import numpy as np\n",
    "from sklearn import datasets\n",
    "from sklearn.model_selection import train_test_split \n",
    "import matplotlib.pyplot as plt\n",
    "\n",
    "# Sử dụng một mẹo nhỏ để vẽ hình trên cùng một dòng thay vì mở cửa sổ mới\n",
    "%matplotlib inline\n",
    "plt.rcParams['figure.figsize'] = (10.0, 8.0) # đặt kích thước mặc định cho hình\n",
    "plt.rcParams['image.interpolation'] = 'nearest'\n",
    "plt.rcParams['image.cmap'] = 'gray'\n",
    "\n",
    "# Một mẹo nhỏ để notebook tự load lại các module bên ngoài;\n",
    "# xem thêm tại http://stackoverflow.com/questions/1907993/autoreload-of-modules-in-ipython\n",
    "%load_ext autoreload\n",
    "%autoreload 2"
   ]
  },
  {
   "cell_type": "code",
   "execution_count": 2,
   "metadata": {},
   "outputs": [
    {
     "name": "stdout",
     "output_type": "stream",
     "text": [
      "Training data shape:  (404, 13)\n",
      "Training labels shape:  (404,)\n",
      "Test data shape:  (102, 13)\n",
      "Test labels shape:  (102,)\n"
     ]
    }
   ],
   "source": [
    "# Tải dữ liệu Giá nhà Boston từ Scikit-learn.\n",
    "boston = datasets.load_boston()\n",
    "X_train, X_test, y_train, y_test = train_test_split(boston.data, \\\n",
    "                                                    boston.target, test_size=0.2)\n",
    "\n",
    "# As a sanity check, we print out the size of the training and test data.\n",
    "print('Training data shape: ', X_train.shape)\n",
    "print('Training labels shape: ', y_train.shape)\n",
    "print('Test data shape: ', X_test.shape)\n",
    "print('Test labels shape: ', y_test.shape)"
   ]
  },
  {
   "cell_type": "markdown",
   "metadata": {},
   "source": [
    "## Load dữ liệu\n",
    "Hồi qui tuyến tính đơn giản là một cách tiếp cận để dự đoán phản ứng (giá trị đầu ra) khi dữ liệu có một đặc trưng duy nhất. Khi giả sử hai biến $x$ và $y$ liên hệ tuyến  tính thì mục tiêu của mô hình là cố tìm ra đường tuyến tính tốt nhất để dự đoán phản ứng ($y$). \n",
    "\n",
    "Đường đó được gọi là đường hồi quy.\n",
    "\n",
    "Công thức cho đường hồi quy được biểu diễn như sau:\n",
    "$$ \\hat{Y} = h(X) = XW$$\n",
    "Trong đó: \n",
    "\n",
    "- $X$ là ma trận có kích thước $N \\times D$ với $X_{ij}$ là giá trị của đặc trưng thứ $j$ của mẫu $i$.\n",
    "- $W$ là ma trận tham số có kích thước $D \\times 1$\n",
    "- $Y$ là giá trị phản ứng của $N$ mẫu.\n",
    "\n"
   ]
  },
  {
   "cell_type": "code",
   "execution_count": 3,
   "metadata": {},
   "outputs": [
    {
     "data": {
      "image/png": "[encoded data removed]",
      "text/plain": [
       "<matplotlib.figure.Figure at 0x210990ad3c8>"
      ]
     },
     "metadata": {},
     "output_type": "display_data"
    }
   ],
   "source": [
    "# Biểu diễn một số ví dụ trong tập huấn luyện sử dụng một đặc trưng duy nhất.\n",
    "# LSTAT - % lower status of the population\n",
    "plt.scatter(X_train[:,12], y_train)\n",
    "plt.xlabel(\"Crime rate\")\n",
    "plt.ylabel(\"House's price\")\n",
    "plt.show()"
   ]
  },
  {
   "cell_type": "markdown",
   "metadata": {},
   "source": [
    "## Huấn luyện mô hình\n",
    "Tất cả code cho phần bài tập này được lưu trong tệp **models/linear_regression.py** và **models/linear_loss.py**.\n",
    "### Cập nhật tham số\n",
    "Quá trình huấn luyện mô hình thực chất là từ dữ liệu để học ra tham số mô hình phù hợp nhất với mô hình sinh dữ liệu. Trong mô hình hồi quy tuyến tính, ta cần học tham số $W$.\n",
    "\n",
    "Khi khởi tạo mô hình, ta giả sử tham số được khởi tạo ngẫu nhiên. Sử dụng tham số $W$ đó, ta ước lượng được giá trị $Y$:\n",
    "$$ \\hat{y} = h(X) = WX $$\n",
    "\n",
    "Tổng sai số, độ lệch của giá trị dự đoán so với giá trị thực tế gọi là hàm giá trị (Cost function):\n",
    "$$ J(w) = \\frac{1}{2N}\\sum_{i=1}^{N} (\\hat{y}_i - y_i)^2 = \\frac{1}{2N}\\sum_{i=1}^{N}\\sum_{j=1}^{D} (w_{j}x_{ij} - y_{ij})^2$$\n",
    "\n",
    "\n",
    "Chúng ta sử thuật toán **xuống đồi (Gradient descent)** để tối ưu tham số $W$. (Xem khóa [Machine Learning](https://www.coursera.org/learn/machine-learning/))\n",
    "\n",
    "Đột tụt dốc của tham số $W$ được cập nhật theo công thức:\n",
    "$$ dw_i = \\frac{\\partial}{\\partial w_i}J(w)$$\n",
    "\n",
    "Đầu tiên, mở file ```models/linear_loss.py``` và cài đặt hàm ```linear_loss_naive```, sử dụng vòng lặp để tính hàm giá trị (Cost function)."
   ]
  },
  {
   "cell_type": "code",
   "execution_count": 4,
   "metadata": {},
   "outputs": [
    {
     "name": "stdout",
     "output_type": "stream",
     "text": [
      "loss: 308.902225\n"
     ]
    }
   ],
   "source": [
    "from models.linear_loss import linear_loss_naive\n",
    "import time\n",
    "\n",
    "# sinh ngẫu nhiên các trọng số (W) với các giá trị nhỏ\n",
    "W = np.random.randn(13, ) * 0.0001 \n",
    "\n",
    "loss, grad = linear_loss_naive(W, X_test, y_test, 0.00001)\n",
    "print('loss: %f' % (loss, ))"
   ]
  },
  {
   "cell_type": "markdown",
   "metadata": {},
   "source": [
    "Lúc này, các giá trị gradient được trả về đều bằng 0. Đạo hàm và tính gradient theo công thức được cho ở trên trong cùng hàm ```linear_loss_naive```. Bạn sẽ thấy một số thứ hữu ích trong phần cài đặt trước đó.\n",
    "\n",
    "Để đảm bảo là bạn đã cài đặt đúng, chúng ta sẽ sử dụng hàm ```grad_check_sparse``` (đã được cài đặt sẵn) để kiểm tra."
   ]
  },
  {
   "cell_type": "code",
   "execution_count": 5,
   "metadata": {
    "scrolled": true
   },
   "outputs": [
    {
     "name": "stdout",
     "output_type": "stream",
     "text": [
      "numerical: -1.572114 analytic: -1.572114, relative error: 2.510060e-10\n",
      "numerical: -1413.744382 analytic: -1413.744382, relative error: 8.208805e-13\n",
      "numerical: -239.189586 analytic: -239.189586, relative error: 1.084267e-11\n",
      "numerical: -91.171015 analytic: -91.171015, relative error: 2.357741e-11\n",
      "numerical: -239.189586 analytic: -239.189586, relative error: 1.084267e-11\n",
      "numerical: -8739.615045 analytic: -8739.615045, relative error: 5.900529e-14\n",
      "numerical: -181.528574 analytic: -181.528574, relative error: 1.553554e-11\n",
      "numerical: -1413.744382 analytic: -1413.744382, relative error: 8.208805e-13\n",
      "numerical: -150.751128 analytic: -150.751128, relative error: 1.733476e-11\n",
      "numerical: -1413.744382 analytic: -1413.744382, relative error: 8.208805e-13\n",
      "numerical: -232.723135 analytic: -232.723135, relative error: 1.913945e-11\n",
      "numerical: -8739.596792 analytic: -8739.596792, relative error: 1.180108e-13\n",
      "numerical: -403.276428 analytic: -403.276428, relative error: 6.258216e-12\n",
      "numerical: -403.263247 analytic: -403.263247, relative error: 6.133531e-12\n",
      "numerical: -150.761935 analytic: -150.761935, relative error: 1.611190e-11\n",
      "numerical: -8534.394369 analytic: -8534.394369, relative error: 1.539910e-13\n",
      "numerical: -46.177344 analytic: -46.177344, relative error: 7.418874e-11\n",
      "numerical: -91.181473 analytic: -91.181473, relative error: 2.384402e-11\n",
      "numerical: -12.108576 analytic: -12.108576, relative error: 1.043708e-10\n",
      "numerical: -181.532391 analytic: -181.532391, relative error: 1.324114e-11\n"
     ]
    }
   ],
   "source": [
    "# Bởi vì bạn đã cài đặt hàm gradient, tính toán gradient với code dưới đây và\n",
    "# kiểm tra với hàm grad_check_sparse(...) đã cho.\n",
    "\n",
    "# Tính toán loss và grad với W.\n",
    "loss, grad = linear_loss_naive(W, X_test, y_test, 0.0)\n",
    "\n",
    "# Tính toán gradient theo một số chiều ngẫu nhiên và so sánh chúng với kết quả\n",
    "# của bạn. Giá trị phải gần như chính xác theo tất cả các chiều.\n",
    "from models.gradient_check import grad_check_sparse\n",
    "f = lambda w: linear_loss_naive(w, X_test, y_test, 0.0)[0]\n",
    "grad_numerical = grad_check_sparse(f, W, grad)\n",
    "\n",
    "# thực hiện kiểm tra khi có sử dụng regularization\n",
    "# đừng quên cài đặt gradient với regularization nhé.\n",
    "loss, grad = linear_loss_naive(W, X_test, y_test, 1e2)\n",
    "f = lambda w: linear_loss_naive(w, X_test, y_test, 1e2)[0]\n",
    "grad_numerical = grad_check_sparse(f, W, grad)\n",
    "\n",
    "# Kết quả relative error trong khoảng 1e-12"
   ]
  },
  {
   "cell_type": "code",
   "execution_count": 6,
   "metadata": {},
   "outputs": [
    {
     "name": "stdout",
     "output_type": "stream",
     "text": [
      "Naive loss: 3.089022e+02 computed in 0.019515s\n",
      "Vectorized loss: 3.089022e+02 computed in 0.009979s\n",
      "difference: -0.000000\n"
     ]
    }
   ],
   "source": [
    "# Kế tiếp, cài đặt linear_loss_vectorized; hiện tại chỉ tính toán hàm giá trị;\n",
    "# gradient sẽ cài đặt sau.\n",
    "tic = time.time()\n",
    "loss_naive, grad_naive = linear_loss_naive(W, X_test, y_test, 0.00001)\n",
    "toc = time.time()\n",
    "print('Naive loss: %e computed in %fs' % (loss_naive, toc - tic))\n",
    "\n",
    "# Vectorized\n",
    "from models.linear_loss import linear_loss_vectorized\n",
    "tic = time.time()\n",
    "loss_vectorized, _ = linear_loss_vectorized(W, X_test, y_test, 0.00001)\n",
    "toc = time.time()\n",
    "print('Vectorized loss: %e computed in %fs' % (loss_vectorized, toc - tic))\n",
    "\n",
    "# Hàm giá trị khi vectorized nên có cùng giá trị với giá trị được tính bằng hàm\n",
    "# linear_loss_naive() nhưng tính toán nhanh hơn\n",
    "print('difference: %f' % (loss_naive - loss_vectorized))"
   ]
  },
  {
   "cell_type": "code",
   "execution_count": 7,
   "metadata": {},
   "outputs": [
    {
     "name": "stdout",
     "output_type": "stream",
     "text": [
      "Naive loss and gradient: computed in 0.017512s\n",
      "Vectorized loss and gradient: computed in 0.000502s\n",
      "difference: 3.182604911552452e-14\n"
     ]
    }
   ],
   "source": [
    "# Hoàn thiện phần cài đặt của linear_loss_vectorized, và tính toán gradient theo\n",
    "# cách vectorized.\n",
    "\n",
    "# Hai hàm tính loss và gradient nên cho kết quả giống nhau nhưng bản vectorized \n",
    "# tính toán nhanh hơn.\n",
    "tic = time.time()\n",
    "_, grad_naive = linear_loss_naive(W, X_test, y_test, 0.00001)\n",
    "toc = time.time()\n",
    "print('Naive loss and gradient: computed in %fs' % (toc - tic))\n",
    "\n",
    "tic = time.time()\n",
    "_, grad_vectorized = linear_loss_vectorized(W, X_test, y_test, 0.00001)\n",
    "toc = time.time()\n",
    "print('Vectorized loss and gradient: computed in %fs' % (toc - tic))\n",
    "\n",
    "# So sánh gradient\n",
    "difference = np.linalg.norm(grad_naive - grad_vectorized)\n",
    "print('difference: {}'.format(difference))"
   ]
  },
  {
   "cell_type": "markdown",
   "metadata": {
    "collapsed": true
   },
   "source": [
    "### Huấn luyện với hàm cập nhật\n",
    "Sử dụng các hàm ```loss``` đã cài đặt ở trên để cài đặt hàm ```train``` trong tệp **linear_regression.py**.\n",
    "\n",
    "Tham số W được cập nhật từng thành phần theo công thức:\n",
    "$$ w_i =  w_i -\\alpha\\frac{\\partial}{\\partial w_i}J(w)$$"
   ]
  },
  {
   "cell_type": "code",
   "execution_count": 8,
   "metadata": {},
   "outputs": [
    {
     "name": "stdout",
     "output_type": "stream",
     "text": [
      "[[ -120.63998102]\n",
      " [ -283.45808463]\n",
      " [ -178.75543084]\n",
      " [  -30.15146688]\n",
      " [   87.78975142]\n",
      " [ -170.71742131]\n",
      " [-1519.95506057]\n",
      " [ -164.78938365]\n",
      " [ -191.21137413]\n",
      " [-8469.66918234]\n",
      " [ -465.86366834]\n",
      " [-8336.21139035]\n",
      " [ -274.8064    ]]\n",
      "iteration 0 / 1500: loss 296.884347\n",
      "[[ -22.73383812]\n",
      " [ -44.34728656]\n",
      " [  33.13176537]\n",
      " [ -17.33143764]\n",
      " [  60.1238794 ]\n",
      " [ -26.46288581]\n",
      " [ -51.21981208]\n",
      " [ -54.28048222]\n",
      " [  11.33025843]\n",
      " [  97.79214556]\n",
      " [ -52.68848959]\n",
      " [-602.00280502]\n",
      " [  -7.0839386 ]]\n",
      "iteration 100 / 1500: loss 91.133034\n",
      "[[ -14.38414264]\n",
      " [ -20.00055015]\n",
      " [  22.3682952 ]\n",
      " [ -10.46743287]\n",
      " [  36.60087468]\n",
      " [ -13.61099802]\n",
      " [ -10.27421992]\n",
      " [ -31.03157425]\n",
      " [   7.65207907]\n",
      " [ 154.57287001]\n",
      " [ -25.27826561]\n",
      " [-198.80743057]\n",
      " [  -0.98451067]]\n",
      "iteration 200 / 1500: loss 89.457651\n",
      "[[ -9.6435918 ]\n",
      " [-10.24421439]\n",
      " [ 12.95280065]\n",
      " [ -6.33662327]\n",
      " [ 22.17598167]\n",
      " [ -7.982522  ]\n",
      " [ -6.55872232]\n",
      " [-18.43265936]\n",
      " [  3.45605267]\n",
      " [ 76.76144267]\n",
      " [-14.81976447]\n",
      " [-92.1910978 ]\n",
      " [ -0.90816834]]\n",
      "iteration 300 / 1500: loss 89.098059\n",
      "[[ -6.30066909]\n",
      " [ -5.34992565]\n",
      " [  7.51787133]\n",
      " [ -3.83679622]\n",
      " [ 13.43348345]\n",
      " [ -4.73342525]\n",
      " [ -4.39268389]\n",
      " [-11.00527056]\n",
      " [  1.49110039]\n",
      " [ 36.8389367 ]\n",
      " [ -8.81145967]\n",
      " [-43.71150786]\n",
      " [ -0.74699171]]\n",
      "iteration 400 / 1500: loss 89.012887\n",
      "[[ -4.03526063]\n",
      " [ -2.83381684]\n",
      " [  4.39642674]\n",
      " [ -2.32339285]\n",
      " [  8.1375292 ]\n",
      " [ -2.81919454]\n",
      " [ -2.86416299]\n",
      " [ -6.59043375]\n",
      " [  0.61508226]\n",
      " [ 17.67011614]\n",
      " [ -5.26021266]\n",
      " [-20.73150753]\n",
      " [ -0.54708535]]\n",
      "iteration 500 / 1500: loss 88.992248\n",
      "[[-2.5482183 ]\n",
      " [-1.52259505]\n",
      " [ 2.58807389]\n",
      " [-1.40704883]\n",
      " [ 4.92944251]\n",
      " [-1.6847834 ]\n",
      " [-1.82983219]\n",
      " [-3.95596422]\n",
      " [ 0.23521997]\n",
      " [ 8.48900593]\n",
      " [-3.14943999]\n",
      " [-9.8209086 ]\n",
      " [-0.37621004]]\n",
      "iteration 600 / 1500: loss 88.987085\n",
      "[[-1.59287351]\n",
      " [-0.82979678]\n",
      " [ 1.53197432]\n",
      " [-0.85216031]\n",
      " [ 2.9860991 ]\n",
      " [-1.00959479]\n",
      " [-1.15231397]\n",
      " [-2.37909109]\n",
      " [ 0.07700756]\n",
      " [ 4.08677045]\n",
      " [-1.89009469]\n",
      " [-4.64488611]\n",
      " [-0.24906617]]\n",
      "iteration 700 / 1500: loss 88.985738\n",
      "[[-0.98824977]\n",
      " [-0.45851557]\n",
      " [ 0.91096717]\n",
      " [-0.51612345]\n",
      " [ 1.80888745]\n",
      " [-0.60631983]\n",
      " [-0.71813775]\n",
      " [-1.43292848]\n",
      " [ 0.0154345 ]\n",
      " [ 1.97255958]\n",
      " [-1.13645213]\n",
      " [-2.19229207]\n",
      " [-0.16085588]]\n",
      "iteration 800 / 1500: loss 88.985368\n",
      "[[-0.60969388]\n",
      " [-0.25668438]\n",
      " [ 0.54371069]\n",
      " [-0.31260919]\n",
      " [ 1.09577047]\n",
      " [-0.36476913]\n",
      " [-0.4441242 ]\n",
      " [-0.86408989]\n",
      " [-0.00553144]\n",
      " [ 0.95514649]\n",
      " [-0.68433902]\n",
      " [-1.03194786]\n",
      " [-0.10213155]]\n",
      "iteration 900 / 1500: loss 88.985261\n",
      "[[-0.374549  ]\n",
      " [-0.14543095]\n",
      " [ 0.32549253]\n",
      " [-0.18934872]\n",
      " [ 0.66378618]\n",
      " [-0.21975653]\n",
      " [-0.27308325]\n",
      " [-0.52156309]\n",
      " [-0.01044626]\n",
      " [ 0.46431609]\n",
      " [-0.4125826 ]\n",
      " [-0.48406496]\n",
      " [-0.06406373]]\n",
      "iteration 1000 / 1500: loss 88.985228\n",
      "[[-0.22934713]\n",
      " [-0.08329089]\n",
      " [ 0.19532947]\n",
      " [-0.11469193]\n",
      " [ 0.40210294]\n",
      " [-0.13254049]\n",
      " [-0.1671796 ]\n",
      " [-0.31505209]\n",
      " [-0.00971182]\n",
      " [ 0.22679306]\n",
      " [-0.24897916]\n",
      " [-0.22603084]\n",
      " [-0.03983041]]\n",
      "iteration 1100 / 1500: loss 88.985217\n",
      "[[-0.1400851 ]\n",
      " [-0.04815665]\n",
      " [ 0.11744622]\n",
      " [-0.0694722 ]\n",
      " [ 0.24358282]\n",
      " [-0.08000897]\n",
      " [-0.10200336]\n",
      " [-0.19042194]\n",
      " [-0.00749719]\n",
      " [ 0.11141457]\n",
      " [-0.15036336]\n",
      " [-0.10490888]\n",
      " [-0.02460106]]\n",
      "iteration 1200 / 1500: loss 88.985213\n",
      "[[-0.08539866]\n",
      " [-0.02807164]\n",
      " [ 0.07072689]\n",
      " [-0.0420819 ]\n",
      " [ 0.14755581]\n",
      " [-0.04833173]\n",
      " [-0.06207579]\n",
      " [-0.11514797]\n",
      " [-0.00531169]\n",
      " [ 0.05510952]\n",
      " [-0.09086147]\n",
      " [-0.04830048]\n",
      " [-0.01511939]]\n",
      "iteration 1300 / 1500: loss 88.985212\n",
      "[[-0.05198267]\n",
      " [-0.0164776 ]\n",
      " [ 0.04264485]\n",
      " [-0.02549086]\n",
      " [ 0.08938531]\n",
      " [-0.02921233]\n",
      " [-0.03770155]\n",
      " [-0.06965578]\n",
      " [-0.00358524]\n",
      " [ 0.02747909]\n",
      " [-0.05493158]\n",
      " [-0.02199487]\n",
      " [-0.00925702]]\n",
      "iteration 1400 / 1500: loss 88.985212\n",
      "That took 0.172624s\n"
     ]
    }
   ],
   "source": [
    "# Ở trong tệp linear_regression.py, cài đặt hàm LinearRegression.train() và chạy\n",
    "# hàm đó với code sau\n",
    "from models.linear_regression import LinearRegression\n",
    "clf = LinearRegression()\n",
    "tic = time.time()\n",
    "loss_hist = clf.train(X_train, y_train, learning_rate=1e-7, reg=5e4,\n",
    "                      num_iters=1500, verbose=True)\n",
    "toc = time.time()\n",
    "print('That took %fs' % (toc - tic))"
   ]
  },
  {
   "cell_type": "code",
   "execution_count": 9,
   "metadata": {},
   "outputs": [
    {
     "data": {
      "image/png": "[encoded data removed]",
      "text/plain": [
       "<matplotlib.figure.Figure at 0x2109ad11ef0>"
      ]
     },
     "metadata": {},
     "output_type": "display_data"
    }
   ],
   "source": [
    "# Một chiến thuật debug hiệu quả được sử dụng đó là vẽ ra lịch sử mất mát (loss \n",
    "# history) như là một hàm với số lần lặp.\n",
    "plt.plot(loss_hist)\n",
    "plt.xlabel('Iteration number')\n",
    "plt.ylabel('Loss value')\n",
    "plt.show()"
   ]
  },
  {
   "cell_type": "code",
   "execution_count": 10,
   "metadata": {},
   "outputs": [
    {
     "name": "stdout",
     "output_type": "stream",
     "text": [
      "training accuracy: 0.000000\n",
      "validation accuracy: 0.000000\n"
     ]
    }
   ],
   "source": [
    "# Cài đặt hàm LinearRegression.predict đánh giá hiệu năng mô hình trên cả tập\n",
    "# huấn luyện và tệp kiểm tra.\n",
    "y_train_pred = clf.predict(X_train)\n",
    "print('training accuracy: %f' % (np.mean(y_train == y_train_pred), ))\n",
    "y_test_pred = clf.predict(X_test)\n",
    "print('validation accuracy: %f' % (np.mean(y_test == y_test_pred), ))"
   ]
  },
  {
   "cell_type": "markdown",
   "metadata": {
    "collapsed": true
   },
   "source": [
    "### Sự chính quy hóa (Regularization)\n",
    "\n",
    "Regularization, một cách cơ bản, là thay đổi mô hình một chút để tránh overfitting trong khi vẫn giữ được tính tổng quát của nó (tính tổng quát là tính mô tả được nhiều dữ liệu, trong cả tập training và test).\n",
    "\n",
    "Có rất nhiều phương pháp được sử dụng để chính quy hóa một mô hình, trong đó, chúng ta sẽ tìm hiểu về phương pháp $L_2 \\, regularization$.\n",
    "\n",
    "#### Regularized loss function\n",
    "Kỹ thuật regularization phổ biến nhất là thêm vào hàm mất mát một số hạng nữa. Số hạng này thường dùng để đánh giá độ phức tạp của mô hình. Số hạng này càng lớn, thì mô hình càng phức tạp. Hàm mất mát mới này thường được gọi là `regularized loss function`, thường được định nghĩa như sau:\n",
    "$$ J_{reg}(\\theta) = J(\\theta) + \\lambda R(\\theta)$$\n",
    "\n",
    "Trong đó:\n",
    "- $\\theta$ là tham số mô hình (trong trường hợp này là $w$)\n",
    "- $\\lambda$ là hằng số regularization\n",
    "- $R(\\theta)$ là số hạng regularization\n",
    "\n",
    "Kỹ thuật `l2 regularization`sử dụng $R(\\theta) = R(w) = ||w||_2^2$.\n",
    "\n",
    "#### Cập nhật tham số\n",
    "Do tham số được cập nhật dựa trên đạo hàm của hàm mất mát, ta cần xây dựng lại công thức tính đạo hàm theo cách sau:\n",
    "$$ w_i =  w_i -\\alpha\\frac{\\partial}{\\partial w_i}J_{reg}(w)$$\n",
    "\n",
    "** Bài tập:** Dựa trên 2 công thức chuẩn hóa có ở trên, viết lại code cho bộ phân lớp `Linear Regression` và chạy tiếp code sau để tìm được mô hình tối ưu."
   ]
  },
  {
   "cell_type": "code",
   "execution_count": 11,
   "metadata": {},
   "outputs": [
    {
     "name": "stdout",
     "output_type": "stream",
     "text": [
      "best validation accuracy achieved during cross-validation: -1.000000\n"
     ]
    }
   ],
   "source": [
    "# Sử dụng tập kiểm tra để điều chỉnh các siêu tham số (độ lớn của reg và tỉ\n",
    "# lệ học. Bạn nên thực nghiệm với nhiều khoảng giá trị của 2 siêu tham số này\n",
    "# Nếu bạn đủ cẩn thận, bạn có thể đạt độ chính xác ... trên tập kiểm tra.\n",
    "learning_rates = [1e-7, 5e-5]\n",
    "regularization_strengths = [5e4, 1e5]\n",
    "\n",
    "# kết quả là một từ điển ánh xạ từ tuple có dạng (reg, lr) sang tuple có dạng\n",
    "# (train_acc, test_acc). Độ chính xác chỉ đơn giản là tỉ lệ mẫu dự đoán chính\n",
    "# xác trên toàn tập dữ liệu.\n",
    "results = {}\n",
    "best_test = -1   # Hiệu năng tốt nhất mà chúng ta sẽ đạt được.\n",
    "best_linear = None # Mô hình LinearRegression có hiệu năng tốt nhất.\n",
    "\n",
    "################################################################################\n",
    "# TODO:                                                                        #\n",
    "# Viết code chọn các siêu tham số tốt nhất bằng cách điều chỉnh trên tập kiểm  #\n",
    "# tra. Với mỗi tổ hợp siêu tham số, huấn luyện một mô hình LinearRegression    #\n",
    "# trên tập huấn luyện, tính toán độ chính xác trên tập huấn luyện và tập kiểm  #\n",
    "# tra, và lưu những con số này vào từ điển kết quả. Thêm vào đó, lưu hiệu năng #\n",
    "# tốt nhất trên tập kiểm tra vào best_val và mô hình LinearRegression tương    #\n",
    "# ứng vào best_svm.                                                            #  \n",
    "#                                                                              #\n",
    "# Gợi ý: Bạn nên sử dụng số vòng lặp (num_iters) nhỏ khi xây dựng code kiểm    #\n",
    "# tra để mô hình không mất quá nhiều thời gian để huấn luyện. Khi đã chắc chắn,#\n",
    "# bạn nên trả về kết quả với số vòng lặp lớn                                   #\n",
    "################################################################################\n",
    "for lr in learning_rates:\n",
    "    for reg in regularization_strengths:\n",
    "        clf = LinearRegression()\n",
    "        clf.train(X_train, y_train, learning_rate=lr, reg=reg, num_iters=1500, verbose=True)\n",
    "            \n",
    "        y_train_pred = clf.predict(X_train)\n",
    "        train_acc = np.mean(y_train == y_train_pred)\n",
    "        y_test_pred = clf.predict(X_test)\n",
    "        test_acc = np.mean(y_test == y_test_pred)\n",
    "            \n",
    "        results[(lr, reg)] = (train_acc, test_acc)\n",
    "################################################################################\n",
    "#                              KẾT THÚC                                        #\n",
    "################################################################################\n",
    "    \n",
    "# In kết quả\n",
    "for lr, reg in sorted(results):\n",
    "    train_accuracy, test_accuracy = results[(lr, reg)]\n",
    "    print('lr %e reg %e train accuracy: %f val accuracy: %f' % (\n",
    "                lr, reg, train_accuracy, test_accuracy))\n",
    "    \n",
    "print('best validation accuracy achieved during cross-validation: %f' % best_test)"
   ]
  },
  {
   "cell_type": "code",
   "execution_count": 12,
   "metadata": {},
   "outputs": [
    {
     "data": {
      "image/png": "[encoded data removed]",
      "text/plain": [
       "<matplotlib.figure.Figure at 0x21098fc23c8>"
      ]
     },
     "metadata": {},
     "output_type": "display_data"
    }
   ],
   "source": [
    "# Visualize kết quả kiểm thử chéo\n",
    "import math\n",
    "x_scatter = [math.log10(x[0]) for x in results]\n",
    "y_scatter = [math.log10(x[1]) for x in results]\n",
    "\n",
    "# plot training accuracy\n",
    "marker_size = 100\n",
    "colors = [results[x][0] for x in results]\n",
    "plt.subplot(2, 1, 1)\n",
    "plt.scatter(x_scatter, y_scatter, marker_size, c=colors)\n",
    "plt.colorbar()\n",
    "plt.xlabel('log learning rate')\n",
    "plt.ylabel('log regularization strength')\n",
    "plt.title('Boston training accuracy')\n",
    "\n",
    "# vẽ hiệu năng trên tập kiểm tra\n",
    "colors = [results[x][1] for x in results] # kích thước mặc định của marker là 20\n",
    "plt.subplot(2, 1, 2)\n",
    "plt.scatter(x_scatter, y_scatter, marker_size, c=colors)\n",
    "plt.colorbar()\n",
    "plt.xlabel('log learning rate')\n",
    "plt.ylabel('log regularization strength')\n",
    "plt.title('Boston test accuracy')\n",
    "plt.show()"
   ]
  }
 ],
 "metadata": {
  "kernelspec": {
   "display_name": "Python 3",
   "language": "python",
   "name": "python3"
  },
  "language_info": {
   "codemirror_mode": {
    "name": "ipython",
    "version": 3
   },
   "file_extension": ".py",
   "mimetype": "text/x-python",
   "name": "python",
   "nbconvert_exporter": "python",
   "pygments_lexer": "ipython3",
   "version": "3.6.3"
  }
 },
 "nbformat": 4,
 "nbformat_minor": 2
}
